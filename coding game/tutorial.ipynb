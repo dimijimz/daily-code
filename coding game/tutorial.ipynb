{
 "cells": [
  {
   "cell_type": "code",
   "execution_count": null,
   "metadata": {},
   "outputs": [],
   "source": [
    "#code with error\n",
    "\n",
    "import sys\n",
    "import math\n",
    "\n",
    "# This code automatically collects game data in an infinite loop.\n",
    "# It uses the standard input to place data into the game variables such as x and y.\n",
    "# YOU DO NOT NEED TO MODIFY THE INITIALIZATION OF THE GAME VARIABLES.\n",
    "\n",
    "# game loop\n",
    "while True:\n",
    "    # x: x position of your pod\n",
    "    # y: y position of your pod\n",
    "    # next_checkpoint_x: x position of the next check point\n",
    "    # next_checkpoint_y: y position of the next check point\n",
    "    x, y, next_checkpoint_x, next_checkpoint_y = [int(i) for i in input().split()]\n",
    "\n",
    "    # Write an action using print\n",
    "    # To debug: print(\"Debug messages...\", file=sys.stderr, flush=True)\n",
    "\n",
    "    # Edit this line to output the target position\n",
    "    # and thrust (0 <= thrust <= 100)\n",
    "    # i.e.: \"x y thrust\"\n",
    "    print(str(next_checkpoint_y) + \" \" + str(next_checkpoint_y) + \" 50\")"
   ]
  },
  {
   "cell_type": "markdown",
   "metadata": {},
   "source": []
  },
  {
   "cell_type": "code",
   "execution_count": null,
   "metadata": {},
   "outputs": [],
   "source": [
    "#correct code\n",
    "\n",
    "import sys\n",
    "\n",
    "# game loop\n",
    "while True:\n",
    "    # x: x position of your pod\n",
    "    # y: y position of your pod\n",
    "    # next_checkpoint_x: x position of the next checkpoint\n",
    "    # next_checkpoint_y: y position of the next checkpoint\n",
    "    x, y, next_checkpoint_x, next_checkpoint_y = [int(i) for i in input().split()]\n",
    "\n",
    "    # Debug messages can help you understand the flow:\n",
    "    print(f\"Debug: Pod position ({x}, {y}), Target checkpoint ({next_checkpoint_x}, {next_checkpoint_y})\", file=sys.stderr, flush=True)\n",
    "\n",
    "    # Edit this line to output the target position\n",
    "    # and thrust (0 <= thrust <= 100)\n",
    "    # i.e.: \"x y thrust\"\n",
    "    # Thrust can be calculated dynamically or set to a fixed value for now\n",
    "    thrust = 100  # You can adjust this value dynamically if needed (Thrust was adjusted to 100 to beat boss level!)\n",
    "    print(f\"{next_checkpoint_x} {next_checkpoint_y} {thrust}\")"
   ]
  }
 ],
 "metadata": {
  "language_info": {
   "name": "python"
  }
 },
 "nbformat": 4,
 "nbformat_minor": 2
}
