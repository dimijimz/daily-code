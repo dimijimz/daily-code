{
 "cells": [
  {
   "cell_type": "markdown",
   "metadata": {},
   "source": [
    "A simple algorithm that uses the angle is the following:\n",
    "\n",
    " \n",
    "if nextCheckpointAngle > 90 or nextCheckpointAngle < -90 then\n",
    "    thrust = 0\n",
    "else\n",
    "    thrust = 100\n",
    "end if\n",
    "print x y thrust\n",
    " \tSummary of new rules\n",
    "\n",
    "You can now use distance and angle as extra input for your AI.\n",
    "\n",
    "\n",
    "The nextCheckpointDist variable contains the distance between your pod and the next checkpoint.\n",
    "The nextCheckpointAngle contains the angle difference between your orientation and the angle between your pod and the next checkpoint.\n",
    " \tThe Goal\n",
    "\n",
    "Win the race.\n",
    " \tRules\n",
    "\n",
    "The circuit of the race is made up of checkpoints. To complete one lap, your vehicle (pod) must pass through each checkpoints in order and back through the start. The first player to reach the starting checkpoint on the final lap wins.\n",
    "\n",
    "The pods work as follows:\n",
    "To pass a checkpoint, the center of a pod must be inside the radius of the checkpoint.\n",
    "To move a pod, you must print a target destination point followed by a thrust value. Details of the protocol can be found further down.\n",
    "The thrust value of a pod is its acceleration and must be between 0 and 100.\n",
    " \n",
    "Victory Conditions\n",
    "Be the first to complete all the laps of the circuit with your pod."
   ]
  },
  {
   "cell_type": "code",
   "execution_count": null,
   "metadata": {},
   "outputs": [],
   "source": [
    "import sys\n",
    "import math\n",
    "\n",
    "# Auto-generated code below aims at helping you parse\n",
    "# the standard input according to the problem statement.\n",
    "\n",
    "\n",
    "# game loop\n",
    "while True:\n",
    "    # next_checkpoint_x: x position of the next check point\n",
    "    # next_checkpoint_y: y position of the next check point\n",
    "    # next_checkpoint_dist: distance to the next checkpoint\n",
    "    # next_checkpoint_angle: angle between your pod orientation and the direction of the next checkpoint\n",
    "    x, y, next_checkpoint_x, next_checkpoint_y, next_checkpoint_dist, next_checkpoint_angle = [int(i) for i in input().split()]\n",
    "    opponent_x, opponent_y = [int(i) for i in input().split()]\n",
    "\n",
    "    # Write an action using print\n",
    "    # To debug: print(\"Debug messages...\", file=sys.stderr, flush=True)\n",
    "\n",
    "\n",
    "    # You have to output the target position\n",
    "    # followed by the power (0 <= thrust <= 100)\n",
    "    # i.e.: \"x y thrust\"\n",
    "    print(str(next_checkpoint_x) + \" \" + str(next_checkpoint_y) + \" 80\")\n"
   ]
  }
 ],
 "metadata": {
  "language_info": {
   "name": "python"
  }
 },
 "nbformat": 4,
 "nbformat_minor": 2
}
